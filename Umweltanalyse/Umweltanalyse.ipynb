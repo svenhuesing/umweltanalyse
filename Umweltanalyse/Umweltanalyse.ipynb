{
 "cells": [
  {
   "cell_type": "markdown",
   "metadata": {},
   "source": [
    "# Minimodul: Analyse von Umweltdaten"
   ]
  },
  {
   "cell_type": "markdown",
   "metadata": {},
   "source": [
    "### Hinweis:\n",
    "Dieses Jupyter Notebook ist Teil eines Minimoduls zum Thema \"Analyse von Umweltdaten\". Es wurde im Kontext des ProDaBi-Projektes entwickelt, welches durch die Deutsche Telekom Stiftung gefördert wird und das Ziel hat, Data Science und Künstliche Intelligenz in die Schule zu bringen.<br>\n",
    "\n",
    "In diesem Jupyter Notebook soll exemplarisch gezeigt werden, wie eine Datenanalyse innerhalb eines Jupyter Notebooks mit der Programmiersprache Python umgesetzt werden kann. Dabei wird ein sogenanntes \"Computational Essay\" erstellt, wodurch es ermöglicht wird, den Programmierprozess sowie die Programmierergebnisse und deren Interpretationen in einem Dokument festzuhalten.\n",
    "\n",
    "Falls Sie an weiteren Informationen - beispielsweise hinsichtlich unterrichtlicher Umsetzungen einer solchen Datenanalyse - interessiert sind, melden Sie sich gerne unter prodabi@mail.uni-paderborn.de oder besuchen Sie unsere Website <a href=\"https://www.prodabi.de\"> https://www.prodabi.de</a>."
   ]
  },
  {
   "cell_type": "markdown",
   "metadata": {
    "markup_type": "expl"
   },
   "source": [
    "In diesem Jupyter Notebook wollen wir bereits erhobene Daten analysieren um neue Erkenntnisse über unsere Umwelt gewinnen zu können. Dazu müssen die zu analysierenden Daten zunächst eingelesen werden. Zur Verfügung stehen die folgenden Umweltdaten:\n",
    "\n",
    "- Temperaturdaten (in °C)\n",
    "- PM2.5-Feinstaubdaten (in $\\mu/m^3$)\n",
    "- Luftfeuchtigkeitsdaten (in %)\n",
    "\n",
    "Die Daten wurden im Zeitraum 27.03.2020 - 23.04.2020 in einem verkehrsberuhigten Wohngebiet aufgenommen."
   ]
  },
  {
   "cell_type": "markdown",
   "metadata": {
    "markup_type": "task"
   },
   "source": [
    "Wählen Sie im folgenden Menü die Daten aus, die Sie analysieren möchten und bestätigen Sie Ihre Wahl mit einem Klick auf den Button \"Lade die Umweltdaten\".\n",
    "\n",
    "<i>Tipp</i>: Um das Menü sehen zu können, müssen Sie die unten stehende Codezelle zuvor ausführen. Klicken Sie diese dazu an und klicken Sie dann in der obigen Menüleiste auf den Run-Button. Alternativ können Sie auch \"Shift+Enter\" drücken, nachdem Sie die Codezelle ausgewählt haben."
   ]
  },
  {
   "cell_type": "code",
   "execution_count": null,
   "metadata": {
    "scrolled": true
   },
   "outputs": [],
   "source": [
    "from res.widgets import *\n",
    "mySteuerung = Steuerung()\n",
    "display(VBox([mySteuerung.auswahl, mySteuerung.loadButton]))\n",
    "mySteuerung.loadButton.on_click(mySteuerung.buttonLoadData_onclick)"
   ]
  },
  {
   "cell_type": "markdown",
   "metadata": {
    "markup_type": "task"
   },
   "source": [
    "Um uns einen ersten Überblick über die Daten zu verschaffen, wollen wir uns im Folgenden die ersten fünf Zeilen des Datensatzes angucken. Führen Sie dazu die folgende Codezelle aus (entweder per Klick auf \"Run\" in der obigen Menüleiste oder durch Drücken von \"Shift+Enter\")."
   ]
  },
  {
   "cell_type": "code",
   "execution_count": null,
   "metadata": {
    "scrolled": true
   },
   "outputs": [],
   "source": [
    "df = mySteuerung.data\n",
    "df.head()"
   ]
  },
  {
   "cell_type": "markdown",
   "metadata": {
    "markup_type": "expl"
   },
   "source": [
    "Nachdem die Daten in diesem Abschnitt in ein passendes Format (DataFrame) gebracht wurden, kann nun mit der Auswertung und der Visualisierung der Daten begonnen werden. Im Folgenden werden Ihnen hierzu verschiedene Methoden/Properties vorgestellt."
   ]
  },
  {
   "cell_type": "markdown",
   "metadata": {},
   "source": [
    "## Erste Auswertung"
   ]
  },
  {
   "cell_type": "markdown",
   "metadata": {
    "markup_type": "expl"
   },
   "source": [
    "Eine typische statistische Größe ist das arithmetische Mittel, welches oft in alltäglichen Kontexten vorkommt (oft nennt man das arithmetische Mittel auch \"Durchschnitt\"). Das arithmetische Mittel können wir auch in der Programmiersprache Python hier in den Jupyter Notebooks berechnen. <br>\n",
    "Dazu verwendet man die Methode <code>mean()</code> auf der Tabellenspalte <code>'value'</code> des Dataframes df: \n",
    "<center>Aufruf:<code>df['value'].mean()</code></center>\n",
    "Diese Methode gibt den Mittelwert aller Einträge aus der Spalte <code>'value'</code> zurück.<br>"
   ]
  },
  {
   "cell_type": "markdown",
   "metadata": {
    "markup_type": "task"
   },
   "source": [
    "Lassen Sie sich das arithmetische Mittel der Messwerte des eingelesenen Datensatzes ausgeben, indem Sie den oben genannten Codeschnipsel <code>df['value'].mean()</code> in die folgende Codezelle einfügen und diese im Anschluss ausführen."
   ]
  },
  {
   "cell_type": "code",
   "execution_count": null,
   "metadata": {},
   "outputs": [],
   "source": [
    "#Platz für den Code:\n"
   ]
  },
  {
   "cell_type": "markdown",
   "metadata": {},
   "source": [
    "## Datenvisualisierung"
   ]
  },
  {
   "cell_type": "markdown",
   "metadata": {},
   "source": [
    "### Gesamten Datensatz visualisieren"
   ]
  },
  {
   "cell_type": "markdown",
   "metadata": {
    "markup_type": "expl"
   },
   "source": [
    "Nun wollen wir uns einen groben Überblick über den Datensatz verschaffen, indem wir uns eine Zeitreihendarstellung angucken. Dazu ruft man die Methode <code>iplot</code> mit dem Parameter <code>kind='line'</code> auf der Tabellenspalte <code>'value'</code> auf:"
   ]
  },
  {
   "cell_type": "markdown",
   "metadata": {
    "markup_type": "task"
   },
   "source": [
    "Führen Sie die folgende Codezelle aus, um eine Zeitreihendarstellung des gesamten Datensatzes zu erzeugen."
   ]
  },
  {
   "cell_type": "code",
   "execution_count": null,
   "metadata": {},
   "outputs": [],
   "source": [
    "df['value'].iplot(kind='line')"
   ]
  },
  {
   "cell_type": "markdown",
   "metadata": {
    "markup_type": "expl"
   },
   "source": [
    "Ein Vorteil bei der Darstellung durch die iplot-Methode ist, dass man den erzeugten Plot interaktiv untersuchen kann. Beispielsweise hat man die Möglichkeit, innerhalb des erzeugten Graphen ein Fenster mit der linken Maustaste \"aufzuziehen\", welches man genauer untersuchen möchte. Beim Loslassen der Maustaste wird dann in das aufgezogene Fenster hineingezoomt.<br>\n",
    "Zudem kann man die Optionen in der Menüleiste oben rechts im Fenster nutzen, um beispielsweise noch weiter in die Darstellung hinein- oder aus ihr herauszuzoomen. Mit dem \"Autoscale\"-Button (6. Button von links) kommt man zur ursprünglichen Ansicht zurück.\n",
    "\n",
    "<i>Tipp</i>: Falls Sie die Menüleiste nicht sehen, bewegen Sie die Maus auf dem Graphen hin und her. Sie erscheint dann oben rechts über der Graphik."
   ]
  },
  {
   "cell_type": "markdown",
   "metadata": {
    "markup_type": "task"
   },
   "source": [
    "Probieren Sie die interaktiven Möglichkeiten im obigen, von Ihnen erzeugten \"Graphikfenster\" aus."
   ]
  },
  {
   "cell_type": "markdown",
   "metadata": {
    "markup_type": "expl"
   },
   "source": [
    "Neben dem Graphen und dem dahinterliegenden Koordinatensystem ist es auch hilfreich, einen Titel für die Graphik sowie Beschriftungen der x- und y-Achse vorzunehmen. Dies lässt sich über die folgenden Parameter in der iplot Methode einstellen:\n",
    "- <code>title = 'Insert Title Here'</code>: Vergabe eines Titels für die Graphik\n",
    "- <code>xTitle = 'Insert x-axis-title here'</code>: Beschriftung der x-Achse\n",
    "- <code>yTitle = 'Insert y-axis-title here'</code>: Beschriftung der y-Achse\n",
    "\n",
    "Beispiel:<br>\n",
    "<code>df['value'].iplot(kind='line', title = 'Interessante Graphik', xTitle = 'Zeit', yTitle = 'Temperatur in °C')</code>"
   ]
  },
  {
   "cell_type": "markdown",
   "metadata": {
    "markup_type": "task"
   },
   "source": [
    "Kopieren Sie ihren Code aus der obigen Codezelle hierhin und ergänzen Sie einen Titel sowie die Achsenbeschriftungen."
   ]
  },
  {
   "cell_type": "code",
   "execution_count": null,
   "metadata": {},
   "outputs": [],
   "source": [
    "#Platz für Ihren Code\n"
   ]
  },
  {
   "cell_type": "markdown",
   "metadata": {
    "markup_type": "expl"
   },
   "source": [
    "## Daten filtern"
   ]
  },
  {
   "cell_type": "markdown",
   "metadata": {
    "markup_type": "expl"
   },
   "source": [
    "Anstatt sich den gesamten Datensatz in einer Gesamtübersicht angucken, lässt sich auch ein Tag genauer betrachten, indem dieser aus dem Datensatz gefiltert wird. Dazu wählt man mit einem Abgleich des Tages, des Monats und des Jahres genau einen Tag aus.\n",
    "\n",
    "Beispiel:<br>\n",
    "Um die Daten für den 01.01.2021 zu filtern und im neuen Datensatz <code>df_oneday</code> zu speichern, wendet man den folgenden Befehl an:\n",
    "\n",
    "<code>df_oneday = df[(df.index.day==1) & (df.index.month==1) & (df.index.year==2021)]</code>"
   ]
  },
  {
   "cell_type": "markdown",
   "metadata": {
    "markup_type": "task"
   },
   "source": [
    "Filtern Sie den oben eingelesenen Datensatz so, dass er die Daten für den 13.04.2020 enthält und speichern Sie diese Daten im Datensatz <code>df_oneday</code>. Ergänzen Sie dazu folgende Codezelle und führen Sie diese anschließend aus.\n",
    "\n",
    "<i>Tipp</i>: Falls Sie Hilfe benötigen, finden Sie die Lösung in der folgenden Hilfe-Box. Klicken Sie darauf, um die Lösung zu erfahren."
   ]
  },
  {
   "cell_type": "markdown",
   "metadata": {
    "markup_type": "hint"
   },
   "source": [
    "<code>df_oneday = df[(df.index.day==1) & (df.index.month==1) & (df.index.year==2021)]</code>"
   ]
  },
  {
   "cell_type": "code",
   "execution_count": null,
   "metadata": {},
   "outputs": [],
   "source": [
    "df_oneday = df[(df.index.day=="
   ]
  },
  {
   "cell_type": "markdown",
   "metadata": {
    "markup_type": "red"
   },
   "source": [
    "Mit dem Code in der obigen Codezelle definieren wir einen Teildatensatz, auf den wir im Folgenden mit <code>df_oneday</code> zugreifen können. Durch dieses Filtern kann man auch auf Teildatensätze zugreifen."
   ]
  },
  {
   "cell_type": "markdown",
   "metadata": {
    "markup_type": "task"
   },
   "source": [
    "Erstellen Sie nun eine Zeitreihendarstellung für den 13.04.2020.\n",
    "\n",
    "<i>Tipp</i>: Klicken Sie für einen Hinweis auf die untere \"Hilfe-Box\"."
   ]
  },
  {
   "cell_type": "markdown",
   "metadata": {
    "markup_type": "hint"
   },
   "source": [
    "Dazu müssen Sie im obigen Code den Datensatz <code>df</code> jeweils durch den \"neuen\" Teildatensatz <code>df_oneday</code> ersetzen."
   ]
  },
  {
   "cell_type": "code",
   "execution_count": null,
   "metadata": {},
   "outputs": [],
   "source": [
    "#Platz für Ihren Code"
   ]
  },
  {
   "cell_type": "markdown",
   "metadata": {},
   "source": [
    "## Weitere Auswertungsmöglichkeiten"
   ]
  },
  {
   "cell_type": "markdown",
   "metadata": {
    "markup_type": "expl"
   },
   "source": [
    "Neben der Zeitreihendarstellung gibt es noch viele andere Visualisierungsmöglichkeiten, die für einen Datensatz angewandt werden können. Ein paar davon erläutern wir in dieser Erklärungs-Box:<br>\n",
    "\n",
    "- Methode <code>iplot()</code> auf einem Dataframe df (Aufruf: <code>df.iplot()</code>)\n",
    "    - erstellt verschiedene Plots des Datensatzes df - abhängig vom übergebenen Wert beim Parameter <code>kind</code>:\n",
    "        - <code>kind='line'</code>: erstellt eine Zeitreihenanalyse der Daten - mit dem Timestamp auf der x-Achse und dem gemessenen Wert auf der y-Achse\n",
    "        - <code>kind='box'</code>: erstellt einen Boxplot aus den gemessenen Werten\n",
    "        - <code>kind='bar'</code>: erstellt ein Säulendiagramm aus den gemessenen Werten\n",
    "    - Zusätzlich lassen sich noch der Titel und Beschriftungen für die x-/y-Achse der Visualisierung über weitere Parameter in der Klammer festlegen:\n",
    "        - <code>title = 'Insert Title Here'</code>\n",
    "        - <code>xTitle = 'Insert x-axis-title here'</code>\n",
    "        - <code>yTitle = 'Insert y-axis-title here'</code>\n",
    "        \n",
    "        \n",
    "- Methode <code>mean()</code> auf der Tabellenspalte 'value' des Dataframes df (Aufruf: <code>df['value'].mean()</code>)\n",
    "    - gibt den Mittelwert aller Einträge aus der Spalte 'value' zurück\n",
    "    - über die <code>print()</code>-Methode (Aufruf: <code>print(df['value'].mean())</code>) lässt sich dieser Wert ausgeben.\n",
    "    \n",
    "    \n",
    "- Methode <code>min()</code> auf der Tabellenspalte 'value' des Dataframes df (Aufruf: <code>df['value'].min()</code>)\n",
    "    - gibt das Minimum aller Einträge aus der Spalte 'value' zurück\n",
    "    - über die <code>print()</code>-Methode (Aufruf: <code>print(df['value'].min())</code>) lässt sich dieser Wert ausgeben.\n",
    "    \n",
    "    \n",
    "- Methode <code>max()</code> auf der Tabellenspalte 'value' des Dataframes df (Aufruf: <code>df['value'].max()</code>)\n",
    "    - gibt das Maximum aller Einträge aus der Spalte 'value' zurück\n",
    "    - über die <code>print()</code>-Methode (Aufruf: <code>print(df['value'].max())</code>) lässt sich dieser Wert ausgeben.\n",
    "  \n",
    "  \n",
    "- Methode <code>quantile(SOME_NUMBER_BETWEEN_0_AND_1)</code> auf der Tabellenspalte 'value' des Dataframes df mit Parameter q (Aufruf: <code>df['value'].quantile(SOME_NUMBER_BETWEEN_0_AND_1)</code>)\n",
    "    - <code>SOME_NUMBER_BETWEEN_0_AND_1</code> ist dabei zu ersetzen durch den gewünschten Anteil des Datensatzes, der kleiner sein soll, als der Rückgabewert (Beispiel: Übergibt man als Parameter den Wert 0.25, sind 25% der Daten aus der Spalte 'value' kleiner als der Wert, der zurückgegeben wird.)\n",
    "    - gibt das entsprechende <code>SOME_NUMBER_BETWEEN_0_AND_1</code>-Quantil der Spalte 'value' zurück\n",
    "    - über die <code>print()</code>-Methode (Aufruf: <code>print(df['value'].quantile(SOME_NUMBER_BETWEEN_0_AND_1))</code>) lässt sich dieser Wert ausgeben."
   ]
  },
  {
   "cell_type": "markdown",
   "metadata": {
    "markup_type": "task"
   },
   "source": [
    "Probieren Sie ein wenig mit den oben genannten Methoden herum. Visualisieren Sie die Daten Ihres DataFrames <code>df</code> und erstellen Sie damit und mithilfe der statistischen Kenngrößen eine erste grobe Datenauswertung. Halten Sie dabei zunächst eine \"Forschungsfrage\" fest, der Sie nachgehen möchten. Beispiele hierfür könnten sein:\n",
    "- Wie groß sind die Temperaturschwankungen nachts?\n",
    "- Wann steigt die Luftfeuchtigkeit am stärksten?\n",
    "- Wann sind die Feinstaubwerte tagsüber am höchsten?\n",
    "<br>\n",
    "\n",
    "<i>Tipp</i>: Weitere Codezellen können Sie über den [+]-Button oben in der Menüleiste hinzufügen."
   ]
  },
  {
   "cell_type": "raw",
   "metadata": {},
   "source": [
    "#Platz für Ihre Forschungsfrage\n"
   ]
  },
  {
   "cell_type": "markdown",
   "metadata": {
    "markup_type": "expl"
   },
   "source": [
    "Für Ihre Analyse können Sie beispielsweise einen Boxplot zu dem Datensatz <code>df</code> erstellen, um einen groben Überblick zu erhalten. Der Code dazu verbirgt sich in der folgenden Hilfebox."
   ]
  },
  {
   "cell_type": "markdown",
   "metadata": {
    "markup_type": "hint"
   },
   "source": [
    "<code>df['value'].iplot(kind = 'box')"
   ]
  },
  {
   "cell_type": "code",
   "execution_count": null,
   "metadata": {},
   "outputs": [],
   "source": [
    "#Platz für Ihren Code\n"
   ]
  },
  {
   "cell_type": "code",
   "execution_count": null,
   "metadata": {},
   "outputs": [],
   "source": [
    "#mehr Platz für noch mehr Code\n"
   ]
  },
  {
   "cell_type": "markdown",
   "metadata": {
    "markup_type": "task"
   },
   "source": [
    "Halten Sie nun in der folgenden Zelle die Erkenntnisse fest, die Sie durch die hier durchgeführte Datenanalyse gewonnen haben."
   ]
  },
  {
   "cell_type": "raw",
   "metadata": {},
   "source": [
    "#Platz für Ihre Erkenntnisse\n"
   ]
  },
  {
   "cell_type": "markdown",
   "metadata": {
    "markup_type": "expl"
   },
   "source": [
    "Neben den hier gezeigten Möglichkeiten bieten Jupyter Notebooks und die Programmiersprache Python noch viele weitere Möglichkeiten zur Datenauswertung wie beispielsweise verschiedene interaktive Visualisierungen.<br>\n",
    "\n",
    "Ein weiterer Vorteil an den Jupyter Notebooks ist die Möglichkeit, neben den Code-Zellen auch Markdown-Zellen einzufügen, in denen man sowohl den Programmcode bzw. die angewandte Vorgehensweise beim Programmieren, als auch die Programmierergebnisse (wie beispielsweise die erzeugten Graphiken) kommentieren kann. Auf diese Weise lassen sich sogenannte <b>Computational Essays</b> erstellen, anhand derer der Auswertungsprozess nachvollziehbar und reproduzierbar gemacht wird (vgl.:\n",
    "\n",
    "- DiSessa, A. A. (2000). Changing minds: Computers, learning, and literacy. MIT Press.<br> \n",
    "\n",
    "<center>und </center>\n",
    "\n",
    "- Wolfram, S. (14.11.2017). What Is a Computational Essay? Online unter: <a href=\"https://writings.stephenwolfram.com/2017/11/what-is-a-computational-essay/\"> https://writings.stephenwolfram.com/2017/11/what-is-a-computational-essay/</a>\n",
    "(abgerufen am 30.04.2021).). "
   ]
  },
  {
   "cell_type": "markdown",
   "metadata": {},
   "source": [
    "<div class=\"alert alert-info\" style=\"max-width:1000px; word-wrap:break-word;\">Diese Web-Anwendung wurde im Rahmen des Projektes ProDaBi der Universität Paderborn erstellt. <br> \n",
    "Wenden Sie sich bei Anregungen oder weiterem Interesse gerne an Sven Hüsing (Didaktik der Informatik).<br>\n",
    "Mail: sven.huesing@uni-paderborn.de</div>"
   ]
  }
 ],
 "metadata": {
  "kernelspec": {
   "display_name": "Python 3",
   "language": "python",
   "name": "python3"
  },
  "language_info": {
   "codemirror_mode": {
    "name": "ipython",
    "version": 3
   },
   "file_extension": ".py",
   "mimetype": "text/x-python",
   "name": "python",
   "nbconvert_exporter": "python",
   "pygments_lexer": "ipython3",
   "version": "3.8.5"
  }
 },
 "nbformat": 4,
 "nbformat_minor": 4
}
